{
 "cells": [
  {
   "attachments": {},
   "cell_type": "markdown",
   "metadata": {},
   "source": [
    "<h2>Resources</h2>"
   ]
  },
  {
   "cell_type": "code",
   "execution_count": 8,
   "metadata": {},
   "outputs": [
    {
     "name": "stdout",
     "output_type": "stream",
     "text": [
      "[{'id': 7, 'title': 'Science in SF and DF', 'body': '<p>The pioneers of both Science Fiction and Detective Fiction clearly link it up with the discourse of science.</p>\\r\\n', 'resources': [{'fileURL': 'https://hello.iitk.ac.in/sites/default/files/eng440asem223/resources/756866e88bdf06cd97b39e24d7cf79a8874120ea1df64d1b666e76bdae934798_Scientifiction short Hugo Gernsback.pdf', 'fileName': 'Scientifiction short Hugo Gernsback.pdf'}, {'fileURL': 'https://hello.iitk.ac.in/sites/default/files/eng440asem223/resources/7f8db3e450bd1760c08d3ec2da9edd1030d7bdbdbe767d95bd9fc33c9ecd29c8_The Science of Deduction.pdf', 'fileName': 'The Science of Deduction.pdf'}]}, {'id': 8, 'title': 'Astronought and The Cop and The Lady', 'body': \"<p>Relationship between theory and experience in 'science'.</p>\\r\\n\", 'resources': [{'fileURL': 'https://hello.iitk.ac.in/sites/default/files/eng440asem223/resources/356b6832f522968e761b02364ea03e7f31f9c071bb96ccde383c72ac169a5512_Astronought.pdf', 'fileName': 'Astronought.pdf'}, {'fileURL': 'https://hello.iitk.ac.in/sites/default/files/eng440asem223/resources/d21c3bfb4e8da4377945379b2ba5dfe9be9f90bd39cc3f9acc6613b620788603_The Cop and the Lady.pdf', 'fileName': 'The Cop and the Lady.pdf'}]}, {'id': 9, 'title': 'Black Hole Theory and The Haunted Policeman', 'body': '<p>Ways of Seeing as Ways of Knowing</p>\\r\\n', 'resources': [{'fileURL': 'https://hello.iitk.ac.in/sites/default/files/eng440asem223/resources/aaf968dd8b9b70207cd1e771fe93c9351096069a4fdab463c126400f458da5bd_Black Hole Theory.pdf', 'fileName': 'Black Hole Theory.pdf'}, {'fileURL': 'https://hello.iitk.ac.in/sites/default/files/eng440asem223/resources/173190aa7e18f7b37c6bca196b15994c851bc8ad027f9489861c1e0f60a96059_Sayers The Haunted Policeman.pdf', 'fileName': 'Sayers The Haunted Policeman.pdf'}]}, {'id': 10, 'title': 'Zoo and Anatomical Variant', 'body': \"<p>Who is the 'other' / the 'object' of knowledge?</p>\\r\\n\", 'resources': [{'fileURL': 'https://hello.iitk.ac.in/sites/default/files/eng440asem223/resources/506232d3909f529cac88a7c94f24e41c36bd403e8e8d4a9c2af625e033a9b1de_Anatomical Variant.pdf', 'fileName': 'Anatomical Variant.pdf'}, {'fileURL': 'https://hello.iitk.ac.in/sites/default/files/eng440asem223/resources/267dc2e0f3d876431cb48196dd13df928ff02ddaee9a457840624c4b437cd729_Zoo by Edward D.pdf', 'fileName': 'Zoo by Edward D.pdf'}]}, {'id': 11, 'title': 'Group Project Sign-up sheet with topics and dates', 'body': '<p>The Groups so far...</p>\\r\\n', 'resources': [{'fileURL': 'https://hello.iitk.ac.in/sites/default/files/eng440asem223/resources/f55d586cdd223cc4e6357cf6065be33c4e32d188754be8a0df211e436c5cf04b_Group project sign up 2023.pdf', 'fileName': 'Group project sign up 2023.pdf'}]}, {'id': 13, 'title': 'ENG440 Class List', 'body': '<p>This is to help you contact other members in the class to decide on your groups for the group project. Each group will need to have 9-10 members.</p>\\r\\n', 'resources': [{'fileURL': 'https://hello.iitk.ac.in/sites/default/files/eng440asem223/resources/ec6ade78e77c762bba857636684ec793da58739aa8f03cab87aef825c63164dc_440 class list 2023.pdf', 'fileName': '440 class list 2023.pdf'}]}, {'id': 16, 'title': 'Trifles and Cave Smell', 'body': '<p>Social implications of Science</p>\\r\\n', 'resources': [{'fileURL': 'https://hello.iitk.ac.in/sites/default/files/eng440asem223/resources/83188ce47ae1a8497a866673be828e54efc31f8d0ba4ec8eec594c2009639d30_Cave Smell Shweta Narayan.pdf', 'fileName': 'Cave Smell Shweta Narayan.pdf'}, {'fileURL': 'https://hello.iitk.ac.in/sites/default/files/eng440asem223/resources/4f60e31b24979f7b746f755d95b55af7680585545744bfcc26308e83d29cf3d8_Trifles Susan Glaspell.pdf', 'fileName': 'Trifles Susan Glaspell.pdf'}]}, {'id': 28, 'title': 'Group 1 Texts', 'body': \"<p>Group 1 has decided to do its presentation on the theme of Ethical Ambiguity (the grey area between right and wrong). Please make sure you see/read the following two texts before you come to class on Monday, Feb. 6.&nbsp; You may submit a PDC on BOTH texts (put in a comparative framework) by 11am on Monday, Feb. 6. Obviously, group 1 members may NOT submit a PDC on this set of texts.</p>\\r\\n\\r\\n<p>1) The Grey (short film available at https://www.youtube.com/watch?v=28Lnwu2Kd4o)</p>\\r\\n\\r\\n<p>2) Wasp's Nest by Agatha Christie</p>\\r\\n\", 'resources': [{'fileURL': 'https://hello.iitk.ac.in/sites/default/files/eng440asem223/resources/9351857c73652c4aa251a0812636da63e4fee3c81374614d477a00471b771a85_Wasp Nest (by Agatha Christie).pdf', 'fileName': 'Wasp Nest (by Agatha Christie).pdf'}, {'fileURL': 'https://hello.iitk.ac.in/sites/default/files/eng440asem223/resources/703db614f24cb8923646320f370d870d093d6aba00ee9f87f61f8d7c725e9e78_Group 1 Script_ENG440A.pdf', 'fileName': 'Group 1 Script_ENG440A.pdf'}]}, {'id': 31, 'title': 'Group 2 Texts', 'body': \"<p>Group 2 is doing its presentation on the theme of Knowledge and Power as seen in the two texts -- 'A Scandal in Bohemia' and 'Requiem Without Sound'. Please make sure you read both texts before you come for class on Monday. You may submit a PDC (with focus on BOTH texts within a comparative framework) by 11am on Monday, Feb. 13. Obviously Group 2 members are not allowed to submit this PDC.</p>\\r\\n\\r\\n<p>Also, PLEASE MAKE SURE YOU ARE IN CLASS BEFORE 11am on Monday. I will NOT allow any late entries into the class on that day.</p>\\r\\n\", 'resources': [{'fileURL': 'https://hello.iitk.ac.in/sites/default/files/eng440asem223/resources/49fc5bc8a18b2ac93d52f3477d6a8ee140c9f56fd5c80cc7de2c57b35ef5e2e3_A Scandal in Bohemia - Arthur Conan Doyle.pdf', 'fileName': 'A Scandal in Bohemia - Arthur Conan Doyle.pdf'}, {'fileURL': 'https://hello.iitk.ac.in/sites/default/files/eng440asem223/resources/503455bed0ba4f67de6af2b1a53215610f9e8ed9ff94e4e37652c2223cfa6c05_Requiem Without Sound - Izzy Wasserstein.pdf', 'fileName': 'Requiem Without Sound - Izzy Wasserstein.pdf'}, {'fileURL': 'https://hello.iitk.ac.in/sites/default/files/eng440asem223/resources/5cba25e6d237d8d1ddab001361f43454c0455ee8f67abfc5549e6c55e322cbec_Group 2 Script.pdf', 'fileName': 'Group 2 Script.pdf'}]}, {'id': 34, 'title': 'Midsem Exam', 'body': None, 'resources': [{'fileURL': 'https://hello.iitk.ac.in/sites/default/files/eng440asem223/resources/4e69b1be5c9f4adaf2a43ac460d48dd9cb02eb1f05ab65be583cdfb965b2e3f0_ENG440 midsem 2023.pdf', 'fileName': 'ENG440 midsem 2023.pdf'}]}, {'id': 35, 'title': 'Detective Fiction as Science Fiction', 'body': \"<p>Please watch the following episode of a series titled 'Murdoch Mysteries' before the class on Monday, Feb. 27. The title of this episode is 'Who Killed the Electric Carriage?'.&nbsp; If you want, you may submit a PDC on it by 11am on Monday.</p>\\r\\n\\r\\n<p>https://www.youtube.com/watch?v=uv4N9ujydCs</p>\\r\\n\\r\\n<p>&nbsp;</p>\\r\\n\", 'resources': []}, {'id': 36, 'title': 'Group 3 Texts', 'body': \"<p>Group 3 will be doing its presentation on Friday, March 3 on the topic of 'Science and Religion'. They have decided to look at two short stories -- Arthur C. Clarke's 'The Star' and G. K. Chesterton's 'The Hammer of God'. Please make sure you read both of them before you come for class on Friday. Also, please remember that on the day of the presentation, you are expected to be in class BEFORE it begins (before 10am in this case), and to come prepared to do some in-class writing.</p>\\r\\n\\r\\n<p>You may submit a PDC on a comparative analysis of both texts by 10am on Friday, March 3. Obviously, Group 3 members may not submit this PDC.</p>\\r\\n\", 'resources': [{'fileURL': 'https://hello.iitk.ac.in/sites/default/files/eng440asem223/resources/b1cf9246e57e6e9445545d3e929a4ffefac89a6b922934f2818fc138d4d43c90_TheStar by Arthur C Clarke.pdf', 'fileName': 'TheStar by Arthur C Clarke.pdf'}, {'fileURL': 'https://hello.iitk.ac.in/sites/default/files/eng440asem223/resources/f000422ea6320382eb2b51c1f91541f7e857dd3fd114270640099e6032a18b36_Chesterton-G-K-The-Hammer-of-God-short-stories.pdf', 'fileName': 'Chesterton-G.-K.-The-Hammer-of-God-short-stories.pdf'}, {'fileURL': 'https://hello.iitk.ac.in/sites/default/files/eng440asem223/resources/9c1c3955c9d8e25c2df1677210bf0c614e56dafb678682b5639ab86e47f95c0a_Group_3_Script.pdf', 'fileName': 'Group_3_Script.pdf'}]}, {'id': 38, 'title': 'Group 4 Texts', 'body': \"<p>Group 4 will be doing its presentation on the topic 'Science as Disruption of the Social'. They have chosen the story 'Harrison Bergeron' by Kurt Vonnegut, and an episode of the TV series 'White Collar' titled 'Vital Signs' as their texts. Please make sure you have gone through both texts before coming for class on Friday, March 17. You may submit a PDC that compares the two texts by 10am on Friday. Obviously, Group 4 members may not submit a PDC on these texts.</p>\\r\\n\\r\\n<p>The TV series episode is available at the following link:</p>\\r\\n\\r\\n<p>https://www.dailymotion.com/video/x6wfwdn</p>\\r\\n\", 'resources': [{'fileURL': 'https://hello.iitk.ac.in/sites/default/files/eng440asem223/resources/d7da5905f94b303f03d0f7f1038c47ba3974cd61422d16cace929e1d22a2ba36_Harrison_Bergeron_Kurt_Vonnegut.pdf', 'fileName': 'Harrison_Bergeron_Kurt_Vonnegut.pdf'}]}, {'id': 40, 'title': 'Group 5 texts', 'body': \"<p>Group 5 will be doing its presentation on the question of how science is defined in texts of two different genres that are authored by the same person. For this purpose, they have chosen two texts by Edgar Allan Poe -- 'Murders in the Rue Morgue' and 'The Facts in the Case of M. Valdemar'. Please make sure you read both texts before you come for class on Friday, March 24. You may also submit a PDC that takes a comparative look at both texts by 10am on Friday, March 24.</p>\\r\\n\\r\\n<p>&nbsp;</p>\\r\\n\", 'resources': [{'fileURL': 'https://hello.iitk.ac.in/sites/default/files/eng440asem223/resources/267168679975a47666fbbdb925a098e431fb165aa0a7b1dbdebe78a9c1b1d4f3_The Facts in the Case of M Valdemar.pdf', 'fileName': 'The Facts in the Case of M. Valdemar.pdf'}, {'fileURL': 'https://hello.iitk.ac.in/sites/default/files/eng440asem223/resources/246b805bb92747913107ad2aaf19bc573f35a3a694a94b37b2f87f0c3602d731_the_murders_in_the_rue_morgue.pdf', 'fileName': 'the_murders_in_the_rue_morgue.pdf'}, {'fileURL': 'https://hello.iitk.ac.in/sites/default/files/eng440asem223/resources/2b6038cb6b1217019d21d0a21e9fc85d5a0b5e7bea726721d5007cd9bf1177d3_Group 5 script.pdf', 'fileName': 'Group 5 script.pdf'}]}, {'id': 42, 'title': 'Group 6 text', 'body': \"<p>Group 6 has decided to do its presentation on how detective fiction may be combined with science fiction within the same text. It is, in this sense, a counterpart to our discussion of 'Who Killed the Electric Carriage?' where we saw how detective fiction may include within itself elements of science fiction. Group 6 has chosen the film 'Minority Report' as their text. They have made it available at the following link:</p>\\r\\n\\r\\n<p>https://myflixer.ru/movie/minority-report-oqzy/1-full</p>\\r\\n\\r\\n<p>Please make sure you watch it before you come for class on Saturday, April 1. You may also submit a PDC on the film by 10am on Saturday, April 1.</p>\\r\\n\", 'resources': []}, {'id': 44, 'title': 'Group 7 texts', 'body': \"<p>Group 7 is doing its presentation on the topic 'Science and / as Institution'. The two texts they have chosen for this topic are an episode of the TV series 'Bones' and the story 'The Psychohistorians' by Isaac Asimov. The TV episode is available at the following link:</p>\\r\\n\\r\\n<p>https://drive.google.com/file/d/1nuYJnVwsXqs4l9V_-FDqpnhSgVlKhr_c/view</p>\\r\\n\\r\\n<p>The story is attached below.</p>\\r\\n\\r\\n<p>Group 7 presentation will take place on Monday, April 10. You may submit a PDC that compares the two texts by 11am on Monday, April 10. Obviously, group members are not allowed to submit this PDC. Please do make sure you have gone through the texts before you come to class on Monday, and make sure you are present in class BEFORE 11am, with pen/paper handy to write the PPC.</p>\\r\\n\", 'resources': [{'fileURL': 'https://hello.iitk.ac.in/sites/default/files/eng440asem223/resources/b39ed75e9aa072dc7cec5c47dea6fdea7a67ecda29da1e17b5f1eec710a0bbed_The Psychohistorians.pdf', 'fileName': 'The Psychohistorians.pdf'}]}, {'id': 50, 'title': 'Basic Terms and Concepts ', 'body': '<p>This is a quick review of some of the most fundamental terms and concepts that we discussed in class this semester. Please refer to these particular definitions of these terms/concepts when using them in writing your end-semester exam answers.</p>\\r\\n', 'resources': [{'fileURL': 'https://hello.iitk.ac.in/sites/default/files/eng440asem223/resources/6051a9b97f42f4741b28cb81d68f8eb21aa2aeace5896080ad98f53520c77a8b_Basic Terms and Concepts.pdf', 'fileName': 'Basic Terms and Concepts.pdf'}]}]\n"
     ]
    }
   ],
   "source": [
    "import os\n",
    "import requests\n",
    "import json\n",
    "\n",
    "# specify the API endpoint URL\n",
    "url = \"https://hello.iitk.ac.in/api/eng440asem223/resources\"\n",
    "\n",
    "# specify the headers for the request\n",
    "headers = {\n",
    "    \"token\": \"37e55f381380670b19eff0e1ccdff42af624f212\",\n",
    "    \"uid\": \"26741\",\n",
    "}\n",
    "\n",
    "# make a GET request to the API endpoint and get the response\n",
    "response = requests.get(url, headers=headers)\n",
    "\n",
    "try:\n",
    "    # try to parse the response as JSON\n",
    "    data = response.json()\n",
    "    print(data)\n",
    "except json.decoder.JSONDecodeError:\n",
    "    # if the response is not valid JSON, print the error and exit\n",
    "    print(\"Error: Response is not valid JSON\")\n",
    "    print(response.text)\n",
    "    exit()\n",
    "\n",
    "# create a folder called Resources to save the files\n",
    "if not os.path.exists(\"Resources\"):\n",
    "    os.mkdir(\"Resources\")\n",
    "\n",
    "# loop through each resource in the JSON response and download it\n",
    "for resource in data:\n",
    "    for res in resource[\"resources\"]:\n",
    "        resource_url = res[\"fileURL\"]\n",
    "        resource_name = res[\"fileName\"]\n",
    "        file_path = os.path.join(\"Resources\", resource_name)\n",
    "        with open(file_path, \"wb\") as f:\n",
    "            f.write(requests.get(resource_url).content)\n"
   ]
  },
  {
   "attachments": {},
   "cell_type": "markdown",
   "metadata": {},
   "source": [
    "<h2>Assignments</h2>"
   ]
  },
  {
   "cell_type": "code",
   "execution_count": 3,
   "metadata": {},
   "outputs": [],
   "source": [
    "import pdfkit\n",
    "import os\n",
    "import requests\n",
    "import json\n",
    "\n",
    "# specify the API endpoint URL\n",
    "url = \"https://hello.iitk.ac.in/api/eng440asem223/assignments/\"\n",
    "\n",
    "# specify the headers for the request\n",
    "headers = {\n",
    "    \"token\": \"37e55f381380670b19eff0e1ccdff42af624f212\",\n",
    "    \"uid\": \"26741\",\n",
    "}\n",
    "\n",
    "# make a GET request to the API endpoint and get the response\n",
    "response = requests.get(url+\"summary\", headers=headers)\n",
    "\n",
    "try:\n",
    "    # try to parse the response as JSON\n",
    "    data = response.json()\n",
    "\n",
    "except json.decoder.JSONDecodeError:\n",
    "    # if the response is not valid JSON, print the error and exit\n",
    "    print(\"Error: Response is not valid JSON\")\n",
    "    print(response.text)\n",
    "    exit()\n",
    "    \n",
    "# create a folder called Resources to save the files\n",
    "if not os.path.exists(\"Assignments\"):\n",
    "    os.mkdir(\"Assignments\")\n",
    "\n",
    "# loop through each resource in the JSON response and download it\n",
    "for resource in data:\n",
    "        resource_url = str(resource[\"aid\"])\n",
    "        resource_name = resource[\"title\"]\n",
    "        \n",
    "        # make a GET request to the API endpoint and get the response\n",
    "        response = requests.get(url+resource_url, headers=headers)\n",
    "\n",
    "        try:\n",
    "            # try to parse the response as JSON\n",
    "            res_data = response.json()\n",
    "        except json.decoder.JSONDecodeError:\n",
    "            # if the response is not valid JSON, print the error and exit\n",
    "            print(\"Error: Response is not valid JSON\")\n",
    "            print(response.text)\n",
    "            exit() \n",
    "        \n",
    "        problem_html = res_data[\"problem\"]\n",
    "        pdf_path = f'Assignments/{resource_name}.pdf'\n",
    "\n",
    "        # create PDF from HTML using pdfkit\n",
    "        pdfkit.from_string(problem_html, pdf_path)"
   ]
  }
 ],
 "metadata": {
  "kernelspec": {
   "display_name": "base",
   "language": "python",
   "name": "python3"
  },
  "language_info": {
   "codemirror_mode": {
    "name": "ipython",
    "version": 3
   },
   "file_extension": ".py",
   "mimetype": "text/x-python",
   "name": "python",
   "nbconvert_exporter": "python",
   "pygments_lexer": "ipython3",
   "version": "3.8.8"
  },
  "orig_nbformat": 4
 },
 "nbformat": 4,
 "nbformat_minor": 2
}
